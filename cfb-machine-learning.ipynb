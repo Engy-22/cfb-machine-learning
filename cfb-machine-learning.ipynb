{
 "cells": [
  {
   "cell_type": "markdown",
   "metadata": {},
   "source": [
    "# CFB Machine Learning with Scikit-learn"
   ]
  },
  {
   "cell_type": "markdown",
   "metadata": {},
   "source": [
    "## Imports "
   ]
  },
  {
   "cell_type": "code",
   "execution_count": 1,
   "metadata": {},
   "outputs": [],
   "source": [
    "import numpy as np\n",
    "import pandas as pd\n",
    "import csv"
   ]
  },
  {
   "cell_type": "markdown",
   "metadata": {},
   "source": [
    "## Data"
   ]
  },
  {
   "cell_type": "code",
   "execution_count": 2,
   "metadata": {},
   "outputs": [],
   "source": [
    "data = pd.read_csv('power5.csv', sep=',',header=0)\n",
    "data = data.drop(columns=\"Unnamed: 0\")\n",
    "\n",
    "#for now, remove polls because this nn is not built to handle NaN values\n",
    "data = data.drop(columns = [\"H_Poll_curr\", \"H_Poll_pre\", \"H_Poll_high\",\"A_Poll_curr\", \"A_Poll_pre\", \"A_Poll_high\", \"Home_score\", \"Away_score\"])\n",
    "\n",
    "#remove and simplify unecessary data\n",
    "data = data.drop(columns = ['H_Overall_Pct', 'H_Conf_Pct', 'H_SOS', 'H_Offensive_Pass_Pct', 'H_Offensive_RusH_Yards_Average', \n",
    "                            'H_Offensive_Total_Average', 'H_Offensive_First_Downs_Total', 'H_Offensive_Turnovers_Total',\n",
    "                           'H_Defensive_Pass_Pct', 'H_Defensive_RusH_Yards_Average', 'H_Defensive_Total_Average',\n",
    "                           'H_Defensive_First_Downs_Total', 'H_Defensive_Turnovers_Total', \n",
    "                            'H_Offensive_Total_Plays', 'H_Offensive_Total_Yards',\n",
    "                           'H_Defensive_Total_Plays', 'H_Defensive_Total_Yards',\n",
    "                           'A_Overall_Pct', 'A_Conf_Pct', 'A_SOS', 'A_Offensive_Pass_Pct', 'A_Offensive_RusA_Yards_Average', \n",
    "                            'A_Offensive_Total_Average', 'A_Offensive_First_Downs_Total', 'A_Offensive_Turnovers_Total',\n",
    "                           'A_Defensive_Pass_Pct', 'A_Defensive_RusA_Yards_Average', 'A_Defensive_Total_Average',\n",
    "                           'A_Defensive_First_Downs_Total', 'A_Defensive_Turnovers_Total', \n",
    "                            'A_Offensive_Total_Plays', 'A_Offensive_Total_Yards',\n",
    "                           'A_Defensive_Total_Plays', 'A_Defensive_Total_Yards'])\n",
    "\n",
    "cols = list(data.columns.values) #Make a list of all of the columns in the df\n",
    "cols.pop(cols.index('Winner')) #Remove b from list\n",
    "data = data[cols+['Winner']] #Create new dataframe with columns in the order you want\n",
    "\n",
    "\n"
   ]
  },
  {
   "cell_type": "markdown",
   "metadata": {},
   "source": [
    "# MLP Classifier\n",
    "\n",
    "## Assign data"
   ]
  },
  {
   "cell_type": "code",
   "execution_count": 3,
   "metadata": {},
   "outputs": [],
   "source": [
    "#assign data for columns 2:109 to X \n",
    "X = data.iloc[:, 2:76]\n",
    "\n",
    "# assign y as winner\n",
    "y = data.iloc[:,76]"
   ]
  },
  {
   "cell_type": "markdown",
   "metadata": {},
   "source": [
    "## Training and testing set"
   ]
  },
  {
   "cell_type": "code",
   "execution_count": 4,
   "metadata": {},
   "outputs": [],
   "source": [
    "from sklearn.model_selection import train_test_split  \n",
    "X_train, X_test, y_train, y_test = train_test_split(X, y, test_size = 0.20)   "
   ]
  },
  {
   "cell_type": "code",
   "execution_count": 5,
   "metadata": {},
   "outputs": [
    {
     "name": "stderr",
     "output_type": "stream",
     "text": [
      "/opt/local/Library/Frameworks/Python.framework/Versions/3.5/lib/python3.5/site-packages/sklearn/preprocessing/data.py:617: DataConversionWarning: Data with input dtype int64, float64 were all converted to float64 by StandardScaler.\n",
      "  return self.partial_fit(X, y)\n",
      "/opt/local/Library/Frameworks/Python.framework/Versions/3.5/lib/python3.5/site-packages/ipykernel_launcher.py:5: DataConversionWarning: Data with input dtype int64, float64 were all converted to float64 by StandardScaler.\n",
      "  \"\"\"\n",
      "/opt/local/Library/Frameworks/Python.framework/Versions/3.5/lib/python3.5/site-packages/ipykernel_launcher.py:6: DataConversionWarning: Data with input dtype int64, float64 were all converted to float64 by StandardScaler.\n",
      "  \n"
     ]
    }
   ],
   "source": [
    "from sklearn.preprocessing import StandardScaler  \n",
    "scaler = StandardScaler()  \n",
    "scaler.fit(X_train)\n",
    "\n",
    "X_train = scaler.transform(X_train)  \n",
    "X_test = scaler.transform(X_test)  "
   ]
  },
  {
   "cell_type": "markdown",
   "metadata": {},
   "source": [
    "## Build classifier"
   ]
  },
  {
   "cell_type": "code",
   "execution_count": 6,
   "metadata": {},
   "outputs": [
    {
     "data": {
      "text/plain": [
       "MLPClassifier(activation='relu', alpha=0.0001, batch_size='auto', beta_1=0.9,\n",
       "       beta_2=0.999, early_stopping=False, epsilon=1e-08,\n",
       "       hidden_layer_sizes=(10, 10, 10, 10, 10, 10),\n",
       "       learning_rate='constant', learning_rate_init=0.001, max_iter=1000,\n",
       "       momentum=0.9, n_iter_no_change=10, nesterovs_momentum=True,\n",
       "       power_t=0.5, random_state=None, shuffle=True, solver='adam',\n",
       "       tol=0.0001, validation_fraction=0.1, verbose=False,\n",
       "       warm_start=False)"
      ]
     },
     "execution_count": 6,
     "metadata": {},
     "output_type": "execute_result"
    }
   ],
   "source": [
    "from sklearn.neural_network import MLPClassifier  \n",
    "mlp = MLPClassifier(hidden_layer_sizes=(10, 10, 10, 10, 10, 10), max_iter=1000)  \n",
    "mlp.fit(X_train, y_train.values.ravel())  "
   ]
  },
  {
   "cell_type": "markdown",
   "metadata": {},
   "source": [
    "## Test"
   ]
  },
  {
   "cell_type": "code",
   "execution_count": 7,
   "metadata": {},
   "outputs": [],
   "source": [
    "predictions = mlp.predict(X_test)  "
   ]
  },
  {
   "cell_type": "code",
   "execution_count": 8,
   "metadata": {},
   "outputs": [
    {
     "name": "stdout",
     "output_type": "stream",
     "text": [
      "[[28  6]\n",
      " [ 6 15]]\n",
      "              precision    recall  f1-score   support\n",
      "\n",
      "           0       0.82      0.82      0.82        34\n",
      "           1       0.71      0.71      0.71        21\n",
      "\n",
      "   micro avg       0.78      0.78      0.78        55\n",
      "   macro avg       0.77      0.77      0.77        55\n",
      "weighted avg       0.78      0.78      0.78        55\n",
      "\n"
     ]
    }
   ],
   "source": [
    "from sklearn.metrics import classification_report, confusion_matrix  \n",
    "print(confusion_matrix(y_test,predictions))  \n",
    "print(classification_report(y_test,predictions))  "
   ]
  },
  {
   "cell_type": "markdown",
   "metadata": {},
   "source": [
    "## Test Conference Championships"
   ]
  },
  {
   "cell_type": "code",
   "execution_count": 9,
   "metadata": {},
   "outputs": [],
   "source": [
    "conf = pd.read_csv('conf_champs.csv', sep=',',header=0)\n",
    "conf = conf.drop(columns=\"Unnamed: 0\")\n",
    "\n",
    "#for now, remove polls because this nn is not built to handle NaN values\n",
    "conf = conf.drop(columns = [\"H_Poll_curr\", \"H_Poll_pre\", \"H_Poll_high\",\"A_Poll_curr\", \"A_Poll_pre\", \"A_Poll_high\"])\n",
    "\n",
    "#remove and simplify unecessary data\n",
    "conf = conf.drop(columns = ['H_Overall_Pct', 'H_Conf_Pct', 'H_SOS', 'H_Offensive_Pass_Pct', 'H_Offensive_RusH_Yards_Average', \n",
    "                            'H_Offensive_Total_Average', 'H_Offensive_First_Downs_Total', 'H_Offensive_Turnovers_Total',\n",
    "                           'H_Defensive_Pass_Pct', 'H_Defensive_RusH_Yards_Average', 'H_Defensive_Total_Average',\n",
    "                           'H_Defensive_First_Downs_Total', 'H_Defensive_Turnovers_Total', \n",
    "                            'H_Offensive_Total_Plays', 'H_Offensive_Total_Yards',\n",
    "                           'H_Defensive_Total_Plays', 'H_Defensive_Total_Yards',\n",
    "                           'A_Overall_Pct', 'A_Conf_Pct', 'A_SOS', 'A_Offensive_Pass_Pct', 'A_Offensive_RusA_Yards_Average', \n",
    "                            'A_Offensive_Total_Average', 'A_Offensive_First_Downs_Total', 'A_Offensive_Turnovers_Total',\n",
    "                           'A_Defensive_Pass_Pct', 'A_Defensive_RusA_Yards_Average', 'A_Defensive_Total_Average',\n",
    "                           'A_Defensive_First_Downs_Total', 'A_Defensive_Turnovers_Total', \n",
    "                            'A_Offensive_Total_Plays', 'A_Offensive_Total_Yards',\n",
    "                           'A_Defensive_Total_Plays', 'A_Defensive_Total_Yards'])\n",
    "\n",
    "\n",
    "conf_cols = list(conf.columns.values) #Make a list of all of the columns in the df\n",
    "#conf_cols.pop(conf_cols.index('Winner')) #Remove b from list\n",
    "#conf = conf[conf_cols+['Winner']] #Create new dataframe with columns in the order you want\n",
    "\n",
    "X_conf = conf.iloc[:, 2:76]\n",
    "X_c =  X_conf.values\n",
    "X_c = scaler.transform(X_c) "
   ]
  },
  {
   "cell_type": "code",
   "execution_count": 10,
   "metadata": {},
   "outputs": [
    {
     "data": {
      "text/plain": [
       "array([0, 0, 1, 0, 1, 0, 1, 1, 0])"
      ]
     },
     "execution_count": 10,
     "metadata": {},
     "output_type": "execute_result"
    }
   ],
   "source": [
    "conf_predictions = mlp.predict(X_c)\n",
    "conf_predictions"
   ]
  },
  {
   "cell_type": "code",
   "execution_count": 11,
   "metadata": {},
   "outputs": [],
   "source": [
    "real_conf_champs = np.array([0,0,1,0,1])"
   ]
  },
  {
   "cell_type": "code",
   "execution_count": 12,
   "metadata": {},
   "outputs": [
    {
     "ename": "ValueError",
     "evalue": "Found input variables with inconsistent numbers of samples: [5, 9]",
     "output_type": "error",
     "traceback": [
      "\u001b[0;31m---------------------------------------------------------------------------\u001b[0m",
      "\u001b[0;31mValueError\u001b[0m                                Traceback (most recent call last)",
      "\u001b[0;32m<ipython-input-12-3a589d666d35>\u001b[0m in \u001b[0;36m<module>\u001b[0;34m()\u001b[0m\n\u001b[0;32m----> 1\u001b[0;31m \u001b[0mprint\u001b[0m\u001b[0;34m(\u001b[0m\u001b[0mconfusion_matrix\u001b[0m\u001b[0;34m(\u001b[0m\u001b[0mreal_conf_champs\u001b[0m\u001b[0;34m,\u001b[0m\u001b[0mconf_predictions\u001b[0m\u001b[0;34m)\u001b[0m\u001b[0;34m)\u001b[0m\u001b[0;34m\u001b[0m\u001b[0m\n\u001b[0m",
      "\u001b[0;32m/opt/local/Library/Frameworks/Python.framework/Versions/3.5/lib/python3.5/site-packages/sklearn/metrics/classification.py\u001b[0m in \u001b[0;36mconfusion_matrix\u001b[0;34m(y_true, y_pred, labels, sample_weight)\u001b[0m\n\u001b[1;32m    251\u001b[0m \u001b[0;34m\u001b[0m\u001b[0m\n\u001b[1;32m    252\u001b[0m     \"\"\"\n\u001b[0;32m--> 253\u001b[0;31m     \u001b[0my_type\u001b[0m\u001b[0;34m,\u001b[0m \u001b[0my_true\u001b[0m\u001b[0;34m,\u001b[0m \u001b[0my_pred\u001b[0m \u001b[0;34m=\u001b[0m \u001b[0m_check_targets\u001b[0m\u001b[0;34m(\u001b[0m\u001b[0my_true\u001b[0m\u001b[0;34m,\u001b[0m \u001b[0my_pred\u001b[0m\u001b[0;34m)\u001b[0m\u001b[0;34m\u001b[0m\u001b[0m\n\u001b[0m\u001b[1;32m    254\u001b[0m     \u001b[0;32mif\u001b[0m \u001b[0my_type\u001b[0m \u001b[0;32mnot\u001b[0m \u001b[0;32min\u001b[0m \u001b[0;34m(\u001b[0m\u001b[0;34m\"binary\"\u001b[0m\u001b[0;34m,\u001b[0m \u001b[0;34m\"multiclass\"\u001b[0m\u001b[0;34m)\u001b[0m\u001b[0;34m:\u001b[0m\u001b[0;34m\u001b[0m\u001b[0m\n\u001b[1;32m    255\u001b[0m         \u001b[0;32mraise\u001b[0m \u001b[0mValueError\u001b[0m\u001b[0;34m(\u001b[0m\u001b[0;34m\"%s is not supported\"\u001b[0m \u001b[0;34m%\u001b[0m \u001b[0my_type\u001b[0m\u001b[0;34m)\u001b[0m\u001b[0;34m\u001b[0m\u001b[0m\n",
      "\u001b[0;32m/opt/local/Library/Frameworks/Python.framework/Versions/3.5/lib/python3.5/site-packages/sklearn/metrics/classification.py\u001b[0m in \u001b[0;36m_check_targets\u001b[0;34m(y_true, y_pred)\u001b[0m\n\u001b[1;32m     69\u001b[0m     \u001b[0my_pred\u001b[0m \u001b[0;34m:\u001b[0m \u001b[0marray\u001b[0m \u001b[0;32mor\u001b[0m \u001b[0mindicator\u001b[0m \u001b[0mmatrix\u001b[0m\u001b[0;34m\u001b[0m\u001b[0m\n\u001b[1;32m     70\u001b[0m     \"\"\"\n\u001b[0;32m---> 71\u001b[0;31m     \u001b[0mcheck_consistent_length\u001b[0m\u001b[0;34m(\u001b[0m\u001b[0my_true\u001b[0m\u001b[0;34m,\u001b[0m \u001b[0my_pred\u001b[0m\u001b[0;34m)\u001b[0m\u001b[0;34m\u001b[0m\u001b[0m\n\u001b[0m\u001b[1;32m     72\u001b[0m     \u001b[0mtype_true\u001b[0m \u001b[0;34m=\u001b[0m \u001b[0mtype_of_target\u001b[0m\u001b[0;34m(\u001b[0m\u001b[0my_true\u001b[0m\u001b[0;34m)\u001b[0m\u001b[0;34m\u001b[0m\u001b[0m\n\u001b[1;32m     73\u001b[0m     \u001b[0mtype_pred\u001b[0m \u001b[0;34m=\u001b[0m \u001b[0mtype_of_target\u001b[0m\u001b[0;34m(\u001b[0m\u001b[0my_pred\u001b[0m\u001b[0;34m)\u001b[0m\u001b[0;34m\u001b[0m\u001b[0m\n",
      "\u001b[0;32m/opt/local/Library/Frameworks/Python.framework/Versions/3.5/lib/python3.5/site-packages/sklearn/utils/validation.py\u001b[0m in \u001b[0;36mcheck_consistent_length\u001b[0;34m(*arrays)\u001b[0m\n\u001b[1;32m    228\u001b[0m     \u001b[0;32mif\u001b[0m \u001b[0mlen\u001b[0m\u001b[0;34m(\u001b[0m\u001b[0muniques\u001b[0m\u001b[0;34m)\u001b[0m \u001b[0;34m>\u001b[0m \u001b[0;36m1\u001b[0m\u001b[0;34m:\u001b[0m\u001b[0;34m\u001b[0m\u001b[0m\n\u001b[1;32m    229\u001b[0m         raise ValueError(\"Found input variables with inconsistent numbers of\"\n\u001b[0;32m--> 230\u001b[0;31m                          \" samples: %r\" % [int(l) for l in lengths])\n\u001b[0m\u001b[1;32m    231\u001b[0m \u001b[0;34m\u001b[0m\u001b[0m\n\u001b[1;32m    232\u001b[0m \u001b[0;34m\u001b[0m\u001b[0m\n",
      "\u001b[0;31mValueError\u001b[0m: Found input variables with inconsistent numbers of samples: [5, 9]"
     ]
    }
   ],
   "source": [
    "print(confusion_matrix(real_conf_champs,conf_predictions))  "
   ]
  },
  {
   "cell_type": "markdown",
   "metadata": {},
   "source": [
    "## Predict Bowl Games"
   ]
  },
  {
   "cell_type": "code",
   "execution_count": null,
   "metadata": {},
   "outputs": [],
   "source": [
    "bowl = pd.read_csv('bowl_champs.csv', sep=',',header=0)\n",
    "bowl = bowl.drop(columns=\"Unnamed: 0\")\n",
    "\n",
    "#for now, remove polls because this nn is not built to handle NaN values\n",
    "bowl = bowl.drop(columns = [\"H_Poll_curr\", \"H_Poll_pre\", \"H_Poll_high\",\"A_Poll_curr\", \"A_Poll_pre\", \"A_Poll_high\"])\n",
    "\n",
    "#remove and simplify unecessary data\n",
    "bowl = bowl.drop(columns = ['H_Overall_Pct', 'H_Conf_Pct', 'H_SOS', 'H_Offensive_Pass_Pct', 'H_Offensive_RusH_Yards_Average', \n",
    "                            'H_Offensive_Total_Average', 'H_Offensive_First_Downs_Total', 'H_Offensive_Turnovers_Total',\n",
    "                           'H_Defensive_Pass_Pct', 'H_Defensive_RusH_Yards_Average', 'H_Defensive_Total_Average',\n",
    "                           'H_Defensive_First_Downs_Total', 'H_Defensive_Turnovers_Total', \n",
    "                            'H_Offensive_Total_Plays', 'H_Offensive_Total_Yards',\n",
    "                           'H_Defensive_Total_Plays', 'H_Defensive_Total_Yards',\n",
    "                           'A_Overall_Pct', 'A_Conf_Pct', 'A_SOS', 'A_Offensive_Pass_Pct', 'A_Offensive_RusA_Yards_Average', \n",
    "                            'A_Offensive_Total_Average', 'A_Offensive_First_Downs_Total', 'A_Offensive_Turnovers_Total',\n",
    "                           'A_Defensive_Pass_Pct', 'A_Defensive_RusA_Yards_Average', 'A_Defensive_Total_Average',\n",
    "                           'A_Defensive_First_Downs_Total', 'A_Defensive_Turnovers_Total', \n",
    "                            'A_Offensive_Total_Plays', 'A_Offensive_Total_Yards',\n",
    "                           'A_Defensive_Total_Plays', 'A_Defensive_Total_Yards'])\n",
    "\n",
    "\n",
    "bowl_cols = list(bowl.columns.values) #Make a list of all of the columns in the df\n",
    "#bowl_cols.pop(bowl_cols.index('Winner')) #Remove b from list\n",
    "#bowl = conf[bowl_cols+['Winner']] #Create new dataframe with columns in the order you want\n",
    "\n",
    "X_bowl = bowl.iloc[:, 2:76]\n",
    "X_b =  X_bowl.values\n",
    "X_b = scaler.transform(X_b) "
   ]
  },
  {
   "cell_type": "code",
   "execution_count": null,
   "metadata": {},
   "outputs": [],
   "source": [
    "bowl_predictions = mlp.predict(X_b)\n",
    "bowl_predictions"
   ]
  }
 ],
 "metadata": {
  "kernelspec": {
   "display_name": "Python 3",
   "language": "python",
   "name": "python3"
  },
  "language_info": {
   "codemirror_mode": {
    "name": "ipython",
    "version": 3
   },
   "file_extension": ".py",
   "mimetype": "text/x-python",
   "name": "python",
   "nbconvert_exporter": "python",
   "pygments_lexer": "ipython3",
   "version": "3.5.5"
  }
 },
 "nbformat": 4,
 "nbformat_minor": 2
}
